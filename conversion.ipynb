{
 "cells": [
  {
   "cell_type": "code",
   "execution_count": 1,
   "metadata": {},
   "outputs": [],
   "source": [
    "import pandas as pd\n",
    "import numpy as np\n",
    "\n"
   ]
  },
  {
   "cell_type": "code",
   "execution_count": 4,
   "metadata": {},
   "outputs": [
    {
     "name": "stdout",
     "output_type": "stream",
     "text": [
      "Collecting pyarrow\n",
      "  Downloading pyarrow-16.0.0-cp312-cp312-win_amd64.whl.metadata (3.1 kB)\n",
      "Requirement already satisfied: numpy>=1.16.6 in c:\\users\\sachin\\desktop\\pythonproj\\.venv\\lib\\site-packages (from pyarrow) (1.26.2)\n",
      "Downloading pyarrow-16.0.0-cp312-cp312-win_amd64.whl (25.8 MB)\n",
      "   ---------------------------------------- 0.0/25.8 MB ? eta -:--:--\n",
      "   ---------------------------------------- 0.0/25.8 MB ? eta -:--:--\n",
      "   ---------------------------------------- 0.0/25.8 MB 262.6 kB/s eta 0:01:39\n",
      "   ---------------------------------------- 0.3/25.8 MB 2.0 MB/s eta 0:00:14\n",
      "    --------------------------------------- 0.5/25.8 MB 2.8 MB/s eta 0:00:09\n",
      "   - -------------------------------------- 0.8/25.8 MB 4.0 MB/s eta 0:00:07\n",
      "   - -------------------------------------- 1.1/25.8 MB 4.5 MB/s eta 0:00:06\n",
      "   -- ------------------------------------- 1.4/25.8 MB 4.7 MB/s eta 0:00:06\n",
      "   -- ------------------------------------- 1.7/25.8 MB 5.0 MB/s eta 0:00:05\n",
      "   --- ------------------------------------ 2.0/25.8 MB 5.1 MB/s eta 0:00:05\n",
      "   --- ------------------------------------ 2.4/25.8 MB 5.4 MB/s eta 0:00:05\n",
      "   ---- ----------------------------------- 2.6/25.8 MB 5.4 MB/s eta 0:00:05\n",
      "   ---- ----------------------------------- 2.9/25.8 MB 5.4 MB/s eta 0:00:05\n",
      "   ---- ----------------------------------- 3.2/25.8 MB 5.5 MB/s eta 0:00:05\n",
      "   ----- ---------------------------------- 3.6/25.8 MB 5.7 MB/s eta 0:00:04\n",
      "   ----- ---------------------------------- 3.9/25.8 MB 5.9 MB/s eta 0:00:04\n",
      "   ------ --------------------------------- 4.2/25.8 MB 5.8 MB/s eta 0:00:04\n",
      "   ------- -------------------------------- 4.5/25.8 MB 5.9 MB/s eta 0:00:04\n",
      "   ------- -------------------------------- 4.9/25.8 MB 6.0 MB/s eta 0:00:04\n",
      "   -------- ------------------------------- 5.2/25.8 MB 6.1 MB/s eta 0:00:04\n",
      "   -------- ------------------------------- 5.5/25.8 MB 6.0 MB/s eta 0:00:04\n",
      "   -------- ------------------------------- 5.8/25.8 MB 6.1 MB/s eta 0:00:04\n",
      "   --------- ------------------------------ 6.2/25.8 MB 6.2 MB/s eta 0:00:04\n",
      "   ---------- ----------------------------- 6.5/25.8 MB 6.2 MB/s eta 0:00:04\n",
      "   ---------- ----------------------------- 6.8/25.8 MB 6.2 MB/s eta 0:00:04\n",
      "   ----------- ---------------------------- 7.2/25.8 MB 6.3 MB/s eta 0:00:03\n",
      "   ----------- ---------------------------- 7.4/25.8 MB 6.3 MB/s eta 0:00:03\n",
      "   ------------ --------------------------- 7.8/25.8 MB 6.3 MB/s eta 0:00:03\n",
      "   ------------ --------------------------- 8.1/25.8 MB 6.3 MB/s eta 0:00:03\n",
      "   ------------ --------------------------- 8.4/25.8 MB 6.3 MB/s eta 0:00:03\n",
      "   ------------- -------------------------- 8.7/25.8 MB 6.3 MB/s eta 0:00:03\n",
      "   -------------- ------------------------- 9.1/25.8 MB 6.4 MB/s eta 0:00:03\n",
      "   -------------- ------------------------- 9.4/25.8 MB 6.4 MB/s eta 0:00:03\n",
      "   --------------- ------------------------ 9.7/25.8 MB 6.4 MB/s eta 0:00:03\n",
      "   --------------- ------------------------ 10.1/25.8 MB 6.5 MB/s eta 0:00:03\n",
      "   ---------------- ----------------------- 10.4/25.8 MB 6.8 MB/s eta 0:00:03\n",
      "   ---------------- ----------------------- 10.7/25.8 MB 6.9 MB/s eta 0:00:03\n",
      "   ----------------- ---------------------- 11.0/25.8 MB 6.8 MB/s eta 0:00:03\n",
      "   ----------------- ---------------------- 11.3/25.8 MB 6.8 MB/s eta 0:00:03\n",
      "   ------------------ --------------------- 11.6/25.8 MB 6.9 MB/s eta 0:00:03\n",
      "   ------------------ --------------------- 12.0/25.8 MB 6.9 MB/s eta 0:00:03\n",
      "   ------------------- -------------------- 12.3/25.8 MB 6.9 MB/s eta 0:00:02\n",
      "   ------------------- -------------------- 12.6/25.8 MB 6.8 MB/s eta 0:00:02\n",
      "   -------------------- ------------------- 12.9/25.8 MB 7.0 MB/s eta 0:00:02\n",
      "   -------------------- ------------------- 13.3/25.8 MB 6.9 MB/s eta 0:00:02\n",
      "   --------------------- ------------------ 13.6/25.8 MB 6.9 MB/s eta 0:00:02\n",
      "   --------------------- ------------------ 13.8/25.8 MB 6.8 MB/s eta 0:00:02\n",
      "   --------------------- ------------------ 14.2/25.8 MB 6.9 MB/s eta 0:00:02\n",
      "   ---------------------- ----------------- 14.4/25.8 MB 6.8 MB/s eta 0:00:02\n",
      "   ---------------------- ----------------- 14.7/25.8 MB 6.8 MB/s eta 0:00:02\n",
      "   ---------------------- ----------------- 14.8/25.8 MB 6.7 MB/s eta 0:00:02\n",
      "   ----------------------- ---------------- 15.3/25.8 MB 6.8 MB/s eta 0:00:02\n",
      "   ------------------------ --------------- 15.7/25.8 MB 6.8 MB/s eta 0:00:02\n",
      "   ------------------------ --------------- 15.9/25.8 MB 6.8 MB/s eta 0:00:02\n",
      "   ------------------------- -------------- 16.2/25.8 MB 6.7 MB/s eta 0:00:02\n",
      "   ------------------------- -------------- 16.5/25.8 MB 6.7 MB/s eta 0:00:02\n",
      "   -------------------------- ------------- 16.9/25.8 MB 6.7 MB/s eta 0:00:02\n",
      "   -------------------------- ------------- 17.2/25.8 MB 6.7 MB/s eta 0:00:02\n",
      "   --------------------------- ------------ 17.5/25.8 MB 6.7 MB/s eta 0:00:02\n",
      "   --------------------------- ------------ 17.7/25.8 MB 6.8 MB/s eta 0:00:02\n",
      "   ---------------------------- ----------- 18.1/25.8 MB 6.8 MB/s eta 0:00:02\n",
      "   ---------------------------- ----------- 18.4/25.8 MB 6.8 MB/s eta 0:00:02\n",
      "   ----------------------------- ---------- 18.8/25.8 MB 6.8 MB/s eta 0:00:02\n",
      "   ----------------------------- ---------- 19.1/25.8 MB 6.8 MB/s eta 0:00:01\n",
      "   ----------------------------- ---------- 19.4/25.8 MB 6.7 MB/s eta 0:00:01\n",
      "   ------------------------------ --------- 19.7/25.8 MB 6.7 MB/s eta 0:00:01\n",
      "   ------------------------------ --------- 20.0/25.8 MB 6.7 MB/s eta 0:00:01\n",
      "   ------------------------------- -------- 20.2/25.8 MB 6.7 MB/s eta 0:00:01\n",
      "   ------------------------------- -------- 20.3/25.8 MB 6.5 MB/s eta 0:00:01\n",
      "   -------------------------------- ------- 20.7/25.8 MB 6.5 MB/s eta 0:00:01\n",
      "   -------------------------------- ------- 20.9/25.8 MB 6.5 MB/s eta 0:00:01\n",
      "   -------------------------------- ------- 21.3/25.8 MB 6.5 MB/s eta 0:00:01\n",
      "   --------------------------------- ------ 21.5/25.8 MB 6.4 MB/s eta 0:00:01\n",
      "   --------------------------------- ------ 21.8/25.8 MB 6.4 MB/s eta 0:00:01\n",
      "   ---------------------------------- ----- 22.1/25.8 MB 6.4 MB/s eta 0:00:01\n",
      "   ---------------------------------- ----- 22.5/25.8 MB 6.4 MB/s eta 0:00:01\n",
      "   ----------------------------------- ---- 22.7/25.8 MB 6.4 MB/s eta 0:00:01\n",
      "   ----------------------------------- ---- 23.0/25.8 MB 6.4 MB/s eta 0:00:01\n",
      "   ------------------------------------ --- 23.3/25.8 MB 6.4 MB/s eta 0:00:01\n",
      "   ------------------------------------ --- 23.6/25.8 MB 6.4 MB/s eta 0:00:01\n",
      "   ------------------------------------- -- 23.9/25.8 MB 6.4 MB/s eta 0:00:01\n",
      "   ------------------------------------- -- 24.3/25.8 MB 6.4 MB/s eta 0:00:01\n",
      "   -------------------------------------- - 24.6/25.8 MB 6.5 MB/s eta 0:00:01\n",
      "   -------------------------------------- - 25.0/25.8 MB 6.5 MB/s eta 0:00:01\n",
      "   ---------------------------------------  25.3/25.8 MB 6.5 MB/s eta 0:00:01\n",
      "   ---------------------------------------  25.6/25.8 MB 6.5 MB/s eta 0:00:01\n",
      "   ---------------------------------------  25.8/25.8 MB 6.5 MB/s eta 0:00:01\n",
      "   ---------------------------------------  25.8/25.8 MB 6.5 MB/s eta 0:00:01\n",
      "   ---------------------------------------  25.8/25.8 MB 6.5 MB/s eta 0:00:01\n",
      "   ---------------------------------------- 25.8/25.8 MB 6.0 MB/s eta 0:00:00\n",
      "Installing collected packages: pyarrow\n",
      "Successfully installed pyarrow-16.0.0\n",
      "Note: you may need to restart the kernel to use updated packages.\n"
     ]
    },
    {
     "name": "stderr",
     "output_type": "stream",
     "text": [
      "\n",
      "[notice] A new release of pip is available: 23.3.1 -> 24.0\n",
      "[notice] To update, run: python.exe -m pip install --upgrade pip\n"
     ]
    },
    {
     "name": "stdout",
     "output_type": "stream",
     "text": [
      "Collecting fastparquet\n",
      "  Downloading fastparquet-2024.2.0-cp312-cp312-win_amd64.whl.metadata (4.2 kB)\n",
      "Requirement already satisfied: pandas>=1.5.0 in c:\\users\\sachin\\desktop\\pythonproj\\.venv\\lib\\site-packages (from fastparquet) (2.1.3)\n",
      "Requirement already satisfied: numpy>=1.20.3 in c:\\users\\sachin\\desktop\\pythonproj\\.venv\\lib\\site-packages (from fastparquet) (1.26.2)\n",
      "Collecting cramjam>=2.3 (from fastparquet)\n",
      "  Downloading cramjam-2.8.3-cp312-none-win_amd64.whl.metadata (4.3 kB)\n",
      "Collecting fsspec (from fastparquet)\n",
      "  Downloading fsspec-2024.3.1-py3-none-any.whl.metadata (6.8 kB)\n",
      "Requirement already satisfied: packaging in c:\\users\\sachin\\desktop\\pythonproj\\.venv\\lib\\site-packages (from fastparquet) (23.2)\n",
      "Requirement already satisfied: python-dateutil>=2.8.2 in c:\\users\\sachin\\desktop\\pythonproj\\.venv\\lib\\site-packages (from pandas>=1.5.0->fastparquet) (2.8.2)\n",
      "Requirement already satisfied: pytz>=2020.1 in c:\\users\\sachin\\desktop\\pythonproj\\.venv\\lib\\site-packages (from pandas>=1.5.0->fastparquet) (2023.3.post1)\n",
      "Requirement already satisfied: tzdata>=2022.1 in c:\\users\\sachin\\desktop\\pythonproj\\.venv\\lib\\site-packages (from pandas>=1.5.0->fastparquet) (2023.3)\n",
      "Requirement already satisfied: six>=1.5 in c:\\users\\sachin\\desktop\\pythonproj\\.venv\\lib\\site-packages (from python-dateutil>=2.8.2->pandas>=1.5.0->fastparquet) (1.16.0)\n",
      "Downloading fastparquet-2024.2.0-cp312-cp312-win_amd64.whl (669 kB)\n",
      "   ---------------------------------------- 0.0/669.7 kB ? eta -:--:--\n",
      "   --------- ------------------------------ 153.6/669.7 kB 3.1 MB/s eta 0:00:01\n",
      "   -------------------------- ------------- 450.6/669.7 kB 4.7 MB/s eta 0:00:01\n",
      "   ---------------------------------------  665.6/669.7 kB 4.7 MB/s eta 0:00:01\n",
      "   ---------------------------------------- 669.7/669.7 kB 4.2 MB/s eta 0:00:00\n",
      "Downloading cramjam-2.8.3-cp312-none-win_amd64.whl (1.6 MB)\n",
      "   ---------------------------------------- 0.0/1.6 MB ? eta -:--:--\n",
      "   ---- ----------------------------------- 0.2/1.6 MB 11.5 MB/s eta 0:00:01\n",
      "   ------------ --------------------------- 0.5/1.6 MB 8.3 MB/s eta 0:00:01\n",
      "   -------------------- ------------------- 0.8/1.6 MB 7.6 MB/s eta 0:00:01\n",
      "   ---------------------------- ----------- 1.2/1.6 MB 7.3 MB/s eta 0:00:01\n",
      "   --------------------------------- ------ 1.4/1.6 MB 6.7 MB/s eta 0:00:01\n",
      "   ---------------------------------------  1.6/1.6 MB 6.9 MB/s eta 0:00:01\n",
      "   ---------------------------------------- 1.6/1.6 MB 5.8 MB/s eta 0:00:00\n",
      "Downloading fsspec-2024.3.1-py3-none-any.whl (171 kB)\n",
      "   ---------------------------------------- 0.0/172.0 kB ? eta -:--:--\n",
      "   ---------------------------------------- 172.0/172.0 kB 5.2 MB/s eta 0:00:00\n",
      "Installing collected packages: fsspec, cramjam, fastparquet\n",
      "Successfully installed cramjam-2.8.3 fastparquet-2024.2.0 fsspec-2024.3.1\n",
      "Note: you may need to restart the kernel to use updated packages.\n"
     ]
    },
    {
     "name": "stderr",
     "output_type": "stream",
     "text": [
      "\n",
      "[notice] A new release of pip is available: 23.3.1 -> 24.0\n",
      "[notice] To update, run: python.exe -m pip install --upgrade pip\n"
     ]
    }
   ],
   "source": [
    "%pip install pyarrow\n",
    "%pip install fastparquet"
   ]
  },
  {
   "cell_type": "code",
   "execution_count": 5,
   "metadata": {},
   "outputs": [],
   "source": [
    "train_df=pd.read_parquet(r'C:\\Users\\Sachin\\Desktop\\pythonproj\\train_data.parquet')\n",
    "test_df=pd.read_parquet(r'C:\\Users\\Sachin\\Desktop\\pythonproj\\test_data.parquet')"
   ]
  },
  {
   "cell_type": "code",
   "execution_count": null,
   "metadata": {},
   "outputs": [],
   "source": [
    "train_"
   ]
  }
 ],
 "metadata": {
  "kernelspec": {
   "display_name": ".venv",
   "language": "python",
   "name": "python3"
  },
  "language_info": {
   "codemirror_mode": {
    "name": "ipython",
    "version": 3
   },
   "file_extension": ".py",
   "mimetype": "text/x-python",
   "name": "python",
   "nbconvert_exporter": "python",
   "pygments_lexer": "ipython3",
   "version": "3.12.0"
  }
 },
 "nbformat": 4,
 "nbformat_minor": 2
}
